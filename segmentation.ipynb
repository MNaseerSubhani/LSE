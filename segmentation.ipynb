{
 "cells": [
  {
   "cell_type": "code",
   "execution_count": 1,
   "metadata": {
    "colab": {},
    "colab_type": "code",
    "id": "Uupmg4W1FtRI"
   },
   "outputs": [],
   "source": [
    "import torch\n",
    "from torch.autograd import Variable\n",
    "import torch.backends.cudnn as cudnn\n",
    "import torch.nn.functional as F\n",
    "from options.train_options import TrainOptions\n",
    "from options.test_options import TestOptions\n",
    "import os\n",
    "\n",
    "import torch.nn as nn\n",
    "import numpy as np\n",
    "from data import CreateSrcDataLoader\n",
    "from data import CreateTrgDataLoader\n",
    "from model import CreateModel\n",
    "# from model import CreateDiscriminator\n",
    "from utils.timer import Timer\n",
    "import tensorboardX\n",
    "\n",
    "from matplotlib import pyplot as plt\n",
    "import random\n",
    "from PIL import Image\n",
    "from skimage.transform import resize\n",
    "from IPython.display import clear_output\n",
    "# import evaluation\n",
    "import os.path as osp\n",
    "import collections\n",
    "from torch.utils import data\n",
    "from PIL import Image\n",
    "import tqdm\n",
    "import time\n",
    "import run_time_evaluation\n",
    "from IPython.display import clear_output"
   ]
  },
  {
   "cell_type": "markdown",
   "metadata": {
    "colab_type": "text",
    "id": "QcCnKC1nFtRj"
   },
   "source": [
    "Init settings"
   ]
  },
  {
   "cell_type": "code",
   "execution_count": 2,
   "metadata": {
    "colab": {},
    "colab_type": "code",
    "id": "Gbtt_6dHFtRq"
   },
   "outputs": [],
   "source": [
    "root_base = '/home/olektra_gpu/Desktop/olektra projects/ECCV'                   #Root directory\n",
    "sorted_list = root_base +'/dataset/cityscapes_list/sorted.txt'         # Final sorted list's path\n",
    "data_gen_list = root_base +'/dataset/cityscapes_list/data_gen_list.txt'# data generated list's path\n",
    "generated_data = root_base +'/dataset/generated_data/'                 # generated data path\n",
    "generated_data_path = root_base +\"/dataset/generated_data/\"\n",
    "\n",
    "select_model = 'DeepLab'                                                   # 'VGG' or 'DeepLab'\n",
    "source_data = 'synthia'                                                   # 'synthia' or 'gta5'\n",
    "model_pick = 'init'                                                    #'init' or 'annex'\n",
    "model_weights = 'synthia_DeepLab__init'                                 # weights file's name\n",
    "\n",
    "#DeepLab_init\n",
    "IMG_W = 1024                                                           #Image width\n",
    "IMG_H = 512                                                            #Image height"
   ]
  },
  {
   "cell_type": "markdown",
   "metadata": {
    "colab_type": "text",
    "id": "ng7H7rmfFtRy"
   },
   "source": [
    "# Utils\n"
   ]
  },
  {
   "cell_type": "code",
   "execution_count": 3,
   "metadata": {
    "colab": {},
    "colab_type": "code",
    "id": "lyxwNRjpFtRz"
   },
   "outputs": [],
   "source": [
    "file_name_save = root_base + '/snapshots/mIoU.txt'\n",
    "def print_args(args):\n",
    "    message = ''\n",
    "    message += '----------------- Options ---------------\\n'\n",
    "    for k, v in sorted(vars(args).items()):\n",
    "        comment = ''\n",
    "        message += '{:>25}: {:<30}{}\\n'.format(str(k), str(v), comment)\n",
    "    message += '--------------------------------------'\n",
    "   \n",
    "\n",
    "    # save to the disk\n",
    "    \n",
    "    with open(file_name_save, 'a') as args_file:\n",
    "        args_file.write(message)\n",
    "        args_file.write('\\n')   "
   ]
  },
  {
   "cell_type": "code",
   "execution_count": 6,
   "metadata": {
    "colab": {},
    "colab_type": "code",
    "id": "CNNG204KFtR8"
   },
   "outputs": [],
   "source": [
    "\n",
    "def change_args(args):\n",
    "    args.model =select_model\n",
    "    args.source=source_data\n",
    "    args.data_dir=root_base + '/dataset/'+args.source\n",
    "    args.data_list = root_base+'/dataset/'+args.source+'_list/train.txt'\n",
    "    args.data_list_target = root_base +'/dataset/cityscapes_list/train.txt'\n",
    "    args.restore_from   = root_base + '/init_models/' + model_pick+ '/' + model_weights   #None#restore_from#init_weights\n",
    "    args.batch_size = 1\n",
    "    \n",
    "    "
   ]
  },
  {
   "cell_type": "code",
   "execution_count": 7,
   "metadata": {
    "colab": {},
    "colab_type": "code",
    "id": "xlA-DlU3FtSD"
   },
   "outputs": [],
   "source": [
    "classes = ['road' , 'side walk', 'building' , 'wall', 'fence', 'pole', 'trafic lights', 'trafic sign', 'vegitation', 'terrain', 'sky', 'person', 'rider', 'car', 'truck','bus', 'train', 'motorcycle', 'bicycle']"
   ]
  },
  {
   "cell_type": "code",
   "execution_count": 8,
   "metadata": {
    "colab": {},
    "colab_type": "code",
    "id": "dzFCXQRMFtSP"
   },
   "outputs": [],
   "source": [
    "def keras_out(inp):\n",
    "    inp = np.rollaxis(inp,axis =-1)\n",
    "    inp = np.rollaxis(inp,axis =-1)\n",
    "    inp = inp.reshape(1,inp.shape[0],inp.shape[1],inp.shape[2])\n",
    "    \n",
    "    return inp"
   ]
  },
  {
   "cell_type": "code",
   "execution_count": 9,
   "metadata": {
    "colab": {},
    "colab_type": "code",
    "id": "1kzLohEqFtSY"
   },
   "outputs": [],
   "source": [
    "def Plot_img(out):\n",
    "    plt.imshow(out.reshape(IMG_H,IMG_W,3),interpolation='nearest')\n",
    "    plt.grid(False)\n",
    "    plt.axis('off')\n",
    "    plt.show()"
   ]
  },
  {
   "cell_type": "code",
   "execution_count": 10,
   "metadata": {
    "colab": {},
    "colab_type": "code",
    "id": "og-NcpndFtSg"
   },
   "outputs": [],
   "source": [
    "def self_entropy(pred, epsilon=1e-12):\n",
    "    pred = pred[0]\n",
    "    p = pred * np.log(pred+ epsilon)\n",
    "    map_ = -np.sum(p, -1)\n",
    "    \n",
    "    return map_"
   ]
  },
  {
   "cell_type": "markdown",
   "metadata": {
    "colab_type": "text",
    "id": "jNuwetJBFtSl"
   },
   "source": [
    "# Model"
   ]
  },
  {
   "cell_type": "code",
   "execution_count": 11,
   "metadata": {
    "colab": {},
    "colab_type": "code",
    "id": "iVjSuCyWFtSt"
   },
   "outputs": [],
   "source": [
    "class model_init():\n",
    "    def __init__(self):\n",
    "        opt = TrainOptions()\n",
    "        args = opt.initialize()\n",
    "        \n",
    "        \n",
    "        change_args(args)\n",
    "        _t = {'iter time' : Timer()}\n",
    "        model_name = args.source + '_to_' + args.target\n",
    "\n",
    "        if not os.path.exists(args.snapshot_dir):\n",
    "            os.makedirs(args.snapshot_dir)   \n",
    "            os.makedirs(os.path.join(args.snapshot_dir, 'logs'))\n",
    "  \n",
    "        \n",
    "        \n",
    "        model, optimizer = CreateModel(args)\n",
    " \n",
    "\n",
    "        self.args =args\n",
    "        self.model_name =model_name\n",
    "        self.model = model\n",
    "        self.optimizer = optimizer\n",
    "        self.opt = opt\n",
    "        \n",
    "    "
   ]
  },
  {
   "cell_type": "code",
   "execution_count": 12,
   "metadata": {
    "colab": {},
    "colab_type": "code",
    "id": "8A9lfkSAFtSx"
   },
   "outputs": [],
   "source": [
    "\n",
    "epsilon = 1e-12\n",
    "\n",
    "device = torch.device(\"cuda:0\" if torch.cuda.is_available() else \"cpu\")\n",
    "class Semantic_segmentation():\n",
    "    def __init__(self,model_loader):\n",
    "        self.args =model_loader.args\n",
    "        self.model_name =model_loader.model_name\n",
    "        self.model = model_loader.model\n",
    "        self.optimizer = model_loader.optimizer\n",
    "        \n",
    "    def train(self):\n",
    "        \n",
    "        \n",
    "          \n",
    "        self.args.shuffel_ = True\n",
    "        self.args.batch_size = 1\n",
    "        \n",
    "        _t = {'iter time' : Timer()}\n",
    "       \n",
    "        \n",
    "           \n",
    "        sourceloader = CreateSrcDataLoader(self.args)\n",
    "        sourceloader_iter = iter(sourceloader)\n",
    "        \n",
    "        \n",
    "        start_iter = 0\n",
    "        # if self.args.restore_from is not None:\n",
    "        #     start_iter = int(self.args.restore_from.rsplit('/', 1)[1].rsplit('_')[1])\n",
    "        \n",
    "#         train_writer = tensorboardX.SummaryWriter(os.path.join(self.args.snapshot_dir, \"logs\", model_name))\n",
    "    \n",
    "#         bce_loss = torch.nn.BCEWithLogitsLoss()\n",
    "\n",
    "        cudnn.enabled = True\n",
    "        cudnn.benchmark = True\n",
    "        self.model.train()\n",
    "        self.model.cuda()\n",
    "\n",
    "        loss = ['loss_seg_src']\n",
    "        _t['iter time'].tic()\n",
    "        for i in range(start_iter, self.args.num_steps):\n",
    "            \n",
    "            self.model.adjust_learning_rate(self.args, self.optimizer, i)\n",
    "\n",
    "            self.optimizer.zero_grad()\n",
    "\n",
    "            src_img, src_lbl, _, _ = sourceloader_iter.next()\n",
    "            \n",
    "            src_img, src_lbl = Variable(src_img).cuda(), Variable(src_lbl.long()).cuda()\n",
    "            src_seg_score = self.model(src_img, lbl=src_lbl)       \n",
    "            loss_seg_src = self.model.loss\n",
    "    \n",
    "            loss_src = torch.mean(loss_seg_src)     \n",
    "            ##############################\n",
    "            loss_src.backward()\n",
    "\n",
    "            src_seg_score = src_seg_score.detach()\n",
    "\n",
    "            self.optimizer.step()\n",
    "\n",
    "\n",
    "\n",
    "            if (i+1) % self.args.save_pred_every == 0:\n",
    "                print ('taking snapshot ...')\n",
    "                torch.save(self.model.state_dict(), os.path.join(self.args.snapshot_dir, '%s_' %(self.args.source+\"_\" + select_model )+\"_init\"  +'.pth' ))   \n",
    "\n",
    "            \n",
    "            if (i+1) % 10000 == 0:\n",
    "                run_time_evaluation.main(Base.model)\n",
    "                \n",
    "            if (i+1) % 100 == 0:\n",
    "                _t['iter time'].toc(average=False)\n",
    "                print ('[it %d][src seg loss %.4f][lr %.4f][%.2fs]' % \\\n",
    "                        (i + 1, loss_src.data, self.optimizer.param_groups[0]['lr']*10000, _t['iter time'].diff))\n",
    "                if i + 1 > self.args.num_steps_stop:\n",
    "                    print ('finish training')\n",
    "                    break\n",
    "                _t['iter time'].tic()\n",
    "                \n",
    "        \n",
    "        \n",
    "        "
   ]
  },
  {
   "cell_type": "code",
   "execution_count": 13,
   "metadata": {
    "colab": {},
    "colab_type": "code",
    "id": "6_t9C09fFtS2"
   },
   "outputs": [],
   "source": [
    "model_initl = model_init()"
   ]
  },
  {
   "cell_type": "code",
   "execution_count": 15,
   "metadata": {
    "colab": {},
    "colab_type": "code",
    "id": "NGFRL1Q6FtS9"
   },
   "outputs": [],
   "source": [
    "model_initl.args.learning_rate = 1e-4  *0.95\n",
    "Base = Semantic_segmentation(model_initl)"
   ]
  },
  {
   "cell_type": "code",
   "execution_count": 16,
   "metadata": {
    "colab": {
     "base_uri": "https://localhost:8080/",
     "height": 171
    },
    "colab_type": "code",
    "executionInfo": {
     "elapsed": 830,
     "status": "error",
     "timestamp": 1581930832317,
     "user": {
      "displayName": "Muhammad Naseer Subhani",
      "photoUrl": "",
      "userId": "06699857406068047110"
     },
     "user_tz": -300
    },
    "id": "4ZcbKwHcFtTA",
    "outputId": "7613fbc6-b90a-4b45-d73a-6453a8128128",
    "scrolled": true
   },
   "outputs": [
    {
     "name": "stderr",
     "output_type": "stream",
     "text": [
      "/home/olektra_gpu/.local/lib/python3.5/site-packages/torch/nn/functional.py:2416: UserWarning: nn.functional.upsample is deprecated. Use nn.functional.interpolate instead.\n",
      "  warnings.warn(\"nn.functional.upsample is deprecated. Use nn.functional.interpolate instead.\")\n",
      "/home/olektra_gpu/.local/lib/python3.5/site-packages/torch/nn/_reduction.py:43: UserWarning: size_average and reduce args will be deprecated, please use reduction='mean' instead.\n",
      "  warnings.warn(warning.format(ret))\n"
     ]
    },
    {
     "name": "stdout",
     "output_type": "stream",
     "text": [
      "[it 100][src seg loss 0.3013][lr 0.9497][378.30s]\n",
      "[it 200][src seg loss 0.2494][lr 0.9493][369.07s]\n",
      "[it 300][src seg loss 0.2510][lr 0.9490][984.22s]\n",
      "[it 400][src seg loss 0.1481][lr 0.9486][996.14s]\n",
      "[it 500][src seg loss 0.2542][lr 0.9483][455.60s]\n",
      "[it 600][src seg loss 0.1294][lr 0.9480][368.71s]\n",
      "[it 700][src seg loss 0.1606][lr 0.9476][368.75s]\n",
      "[it 800][src seg loss 0.2920][lr 0.9473][368.57s]\n",
      "[it 900][src seg loss 0.3779][lr 0.9469][368.96s]\n",
      "[it 1000][src seg loss 0.1793][lr 0.9466][368.82s]\n",
      "[it 1100][src seg loss 0.1645][lr 0.9462][368.87s]\n",
      "[it 1200][src seg loss 0.1786][lr 0.9459][368.79s]\n",
      "[it 1300][src seg loss 0.1051][lr 0.9456][368.87s]\n",
      "[it 1400][src seg loss 0.0918][lr 0.9452][368.78s]\n",
      "[it 1500][src seg loss 0.2271][lr 0.9449][368.67s]\n",
      "[it 1600][src seg loss 0.1830][lr 0.9445][369.15s]\n",
      "[it 1700][src seg loss 0.1862][lr 0.9442][369.16s]\n",
      "[it 1800][src seg loss 0.1783][lr 0.9438][368.79s]\n",
      "[it 1900][src seg loss 0.4337][lr 0.9435][369.06s]\n",
      "[it 2000][src seg loss 0.0970][lr 0.9432][369.06s]\n",
      "[it 2100][src seg loss 0.1362][lr 0.9428][368.95s]\n",
      "[it 2200][src seg loss 0.2920][lr 0.9425][368.72s]\n",
      "[it 2300][src seg loss 0.1515][lr 0.9421][369.22s]\n",
      "[it 2400][src seg loss 0.1390][lr 0.9418][368.76s]\n",
      "[it 2500][src seg loss 0.2459][lr 0.9414][369.01s]\n",
      "[it 2600][src seg loss 0.1936][lr 0.9411][368.73s]\n",
      "[it 2700][src seg loss 0.2616][lr 0.9408][368.92s]\n",
      "[it 2800][src seg loss 0.1470][lr 0.9404][368.73s]\n",
      "[it 2900][src seg loss 0.0803][lr 0.9401][368.80s]\n",
      "[it 3000][src seg loss 0.1158][lr 0.9397][369.08s]\n",
      "[it 3100][src seg loss 0.2125][lr 0.9394][369.18s]\n",
      "[it 3200][src seg loss 0.2583][lr 0.9391][369.16s]\n",
      "[it 3300][src seg loss 0.1813][lr 0.9387][369.04s]\n",
      "[it 3400][src seg loss 0.1951][lr 0.9384][368.97s]\n",
      "[it 3500][src seg loss 0.1275][lr 0.9380][369.16s]\n",
      "[it 3600][src seg loss 0.2155][lr 0.9377][368.99s]\n",
      "[it 3700][src seg loss 0.1506][lr 0.9373][368.84s]\n",
      "[it 3800][src seg loss 0.1299][lr 0.9370][369.05s]\n",
      "[it 3900][src seg loss 0.3736][lr 0.9367][369.13s]\n",
      "[it 4000][src seg loss 0.1877][lr 0.9363][368.79s]\n",
      "[it 4100][src seg loss 0.1923][lr 0.9360][368.95s]\n",
      "[it 4200][src seg loss 0.2312][lr 0.9356][369.22s]\n",
      "[it 4300][src seg loss 0.2987][lr 0.9353][369.08s]\n",
      "[it 4400][src seg loss 0.2544][lr 0.9349][369.03s]\n",
      "[it 4500][src seg loss 0.1239][lr 0.9346][369.01s]\n",
      "[it 4600][src seg loss 0.1149][lr 0.9343][369.29s]\n",
      "[it 4700][src seg loss 0.1932][lr 0.9339][369.21s]\n",
      "[it 4800][src seg loss 0.2184][lr 0.9336][369.21s]\n",
      "[it 4900][src seg loss 0.1071][lr 0.9332][369.09s]\n",
      "[it 5000][src seg loss 0.1754][lr 0.9329][369.20s]\n",
      "[it 5100][src seg loss 0.4277][lr 0.9325][368.98s]\n",
      "[it 5200][src seg loss 0.2125][lr 0.9322][369.02s]\n",
      "[it 5300][src seg loss 0.2183][lr 0.9319][368.94s]\n",
      "[it 5400][src seg loss 0.2469][lr 0.9315][368.88s]\n",
      "[it 5500][src seg loss 0.1367][lr 0.9312][368.83s]\n",
      "[it 5600][src seg loss 0.1096][lr 0.9308][369.13s]\n",
      "[it 5700][src seg loss 0.0934][lr 0.9305][369.01s]\n",
      "[it 5800][src seg loss 0.1821][lr 0.9301][368.95s]\n",
      "[it 5900][src seg loss 0.1253][lr 0.9298][369.22s]\n",
      "[it 6000][src seg loss 0.2040][lr 0.9295][369.12s]\n",
      "[it 6100][src seg loss 0.0627][lr 0.9291][369.57s]\n",
      "[it 6200][src seg loss 0.2379][lr 0.9288][368.96s]\n",
      "[it 6300][src seg loss 0.1915][lr 0.9284][369.04s]\n",
      "[it 6400][src seg loss 0.2040][lr 0.9281][368.94s]\n",
      "[it 6500][src seg loss 0.2561][lr 0.9277][369.00s]\n",
      "[it 6600][src seg loss 0.2845][lr 0.9274][368.75s]\n",
      "[it 6700][src seg loss 0.1990][lr 0.9271][368.80s]\n",
      "[it 6800][src seg loss 0.3014][lr 0.9267][368.82s]\n",
      "[it 6900][src seg loss 0.1880][lr 0.9264][369.24s]\n",
      "[it 7000][src seg loss 0.1819][lr 0.9260][369.32s]\n",
      "[it 7100][src seg loss 0.2498][lr 0.9257][369.11s]\n",
      "[it 7200][src seg loss 0.1632][lr 0.9253][369.36s]\n",
      "[it 7300][src seg loss 0.0710][lr 0.9250][369.12s]\n",
      "[it 7400][src seg loss 0.1839][lr 0.9247][369.13s]\n",
      "[it 7500][src seg loss 0.1477][lr 0.9243][369.08s]\n",
      "[it 7600][src seg loss 0.2305][lr 0.9240][369.11s]\n",
      "[it 7700][src seg loss 0.2627][lr 0.9236][368.94s]\n",
      "[it 7800][src seg loss 0.1000][lr 0.9233][369.19s]\n",
      "[it 7900][src seg loss 0.1657][lr 0.9229][369.13s]\n",
      "[it 8000][src seg loss 0.1814][lr 0.9226][369.20s]\n",
      "[it 8100][src seg loss 0.4454][lr 0.9223][369.07s]\n",
      "[it 8200][src seg loss 0.2158][lr 0.9219][368.91s]\n",
      "[it 8300][src seg loss 0.2244][lr 0.9216][369.26s]\n",
      "[it 8400][src seg loss 0.2420][lr 0.9212][368.88s]\n",
      "[it 8500][src seg loss 0.1593][lr 0.9209][369.00s]\n",
      "[it 8600][src seg loss 0.1304][lr 0.9205][368.70s]\n",
      "[it 8700][src seg loss 2.4380][lr 0.9202][368.76s]\n",
      "[it 8800][src seg loss 0.1493][lr 0.9199][368.83s]\n",
      "[it 8900][src seg loss 0.1282][lr 0.9195][369.03s]\n",
      "[it 9000][src seg loss 0.1098][lr 0.9192][368.82s]\n",
      "[it 9100][src seg loss 0.1327][lr 0.9188][369.02s]\n",
      "[it 9200][src seg loss 0.1577][lr 0.9185][369.13s]\n",
      "[it 9300][src seg loss 0.2289][lr 0.9181][368.74s]\n",
      "[it 9400][src seg loss 0.1675][lr 0.9178][368.74s]\n",
      "[it 9500][src seg loss 0.0658][lr 0.9175][368.19s]\n",
      "[it 9600][src seg loss 0.1046][lr 0.9171][368.51s]\n",
      "[it 9700][src seg loss 0.2672][lr 0.9168][368.84s]\n",
      "[it 9800][src seg loss 0.2318][lr 0.9164][368.89s]\n",
      "[it 9900][src seg loss 0.2956][lr 0.9161][368.58s]\n",
      "taking snapshot ...\n"
     ]
    },
    {
     "name": "stderr",
     "output_type": "stream",
     "text": [
      "500it [08:05,  1.03it/s]\n"
     ]
    },
    {
     "name": "stdout",
     "output_type": "stream",
     "text": [
      "Num classes 19\n",
      "===>road:\t27.44\n",
      "===>sidewalk:\t19.75\n",
      "===>building:\t72.38\n",
      "===>wall:\t7.67\n",
      "===>fence:\t0.09\n",
      "===>pole:\t22.4\n",
      "===>light:\t11.07\n",
      "===>sign:\t10.98\n",
      "===>vegetation:\t75.86\n",
      "===>terrain:\t0.0\n",
      "===>sky:\t78.72\n",
      "===>person:\t54.78\n",
      "===>rider:\t21.07\n",
      "===>car:\t31.24\n",
      "===>truck:\t0.0\n",
      "===>bus:\t12.61\n",
      "===>train:\t0.0\n",
      "===>motocycle:\t17.38\n",
      "===>bicycle:\t30.06\n",
      "===> mIoU19: 25.97\n",
      "===> mIoU16: 30.84\n",
      "===> mIoU13: 35.64\n",
      "[it 10000][src seg loss 0.2138][lr 0.9157][887.74s]\n",
      "[it 10100][src seg loss 0.8091][lr 0.9154][348.65s]\n",
      "[it 10200][src seg loss 0.1438][lr 0.9150][348.58s]\n",
      "[it 10300][src seg loss 0.1629][lr 0.9147][348.51s]\n",
      "[it 10400][src seg loss 0.2549][lr 0.9144][348.57s]\n",
      "[it 10500][src seg loss 0.1493][lr 0.9140][348.42s]\n",
      "[it 10600][src seg loss 0.3578][lr 0.9137][348.60s]\n",
      "[it 10700][src seg loss 0.1988][lr 0.9133][348.49s]\n",
      "[it 10800][src seg loss 0.4386][lr 0.9130][348.22s]\n",
      "[it 10900][src seg loss 0.2237][lr 0.9126][348.51s]\n",
      "[it 11000][src seg loss 0.1787][lr 0.9123][348.63s]\n",
      "[it 11100][src seg loss 0.1583][lr 0.9120][348.38s]\n",
      "[it 11200][src seg loss 0.1939][lr 0.9116][348.58s]\n",
      "[it 11300][src seg loss 0.0999][lr 0.9113][348.27s]\n",
      "[it 11400][src seg loss 0.2182][lr 0.9109][348.57s]\n",
      "[it 11500][src seg loss 0.1544][lr 0.9106][348.65s]\n",
      "[it 11600][src seg loss 0.0975][lr 0.9102][348.42s]\n",
      "[it 11700][src seg loss 0.0973][lr 0.9099][348.44s]\n",
      "[it 11800][src seg loss 0.1420][lr 0.9096][348.47s]\n",
      "[it 11900][src seg loss 0.1861][lr 0.9092][348.55s]\n",
      "[it 12000][src seg loss 0.2283][lr 0.9089][348.95s]\n",
      "[it 12100][src seg loss 1.9833][lr 0.9085][348.66s]\n",
      "[it 12200][src seg loss 0.2365][lr 0.9082][348.49s]\n",
      "[it 12300][src seg loss 0.1153][lr 0.9078][348.61s]\n",
      "[it 12400][src seg loss 0.2105][lr 0.9075][348.69s]\n",
      "[it 12500][src seg loss 0.0707][lr 0.9071][348.74s]\n",
      "[it 12600][src seg loss 0.0911][lr 0.9068][348.94s]\n",
      "[it 12700][src seg loss 0.1277][lr 0.9065][348.75s]\n",
      "[it 12800][src seg loss 0.2659][lr 0.9061][348.58s]\n",
      "[it 12900][src seg loss 0.1727][lr 0.9058][348.48s]\n",
      "[it 13000][src seg loss 0.0993][lr 0.9054][348.70s]\n",
      "[it 13100][src seg loss 0.3379][lr 0.9051][348.62s]\n",
      "[it 13200][src seg loss 0.2161][lr 0.9047][348.77s]\n",
      "[it 13300][src seg loss 0.1549][lr 0.9044][348.68s]\n",
      "[it 13400][src seg loss 0.2335][lr 0.9041][348.78s]\n",
      "[it 13500][src seg loss 0.1970][lr 0.9037][348.45s]\n",
      "[it 13600][src seg loss 0.2289][lr 0.9034][348.76s]\n",
      "[it 13700][src seg loss 0.2193][lr 0.9030][348.56s]\n",
      "[it 13800][src seg loss 0.1986][lr 0.9027][348.67s]\n",
      "[it 13900][src seg loss 0.2173][lr 0.9023][348.76s]\n",
      "[it 14000][src seg loss 0.1920][lr 0.9020][349.02s]\n",
      "[it 14100][src seg loss 0.2220][lr 0.9016][348.94s]\n",
      "[it 14200][src seg loss 0.2149][lr 0.9013][348.96s]\n",
      "[it 14300][src seg loss 0.1907][lr 0.9010][348.78s]\n",
      "[it 14400][src seg loss 0.2078][lr 0.9006][348.83s]\n",
      "[it 14500][src seg loss 0.1898][lr 0.9003][348.82s]\n",
      "[it 14600][src seg loss 0.1403][lr 0.8999][348.77s]\n",
      "[it 14700][src seg loss 0.1358][lr 0.8996][348.73s]\n",
      "[it 14800][src seg loss 0.1103][lr 0.8992][348.87s]\n",
      "[it 14900][src seg loss 0.3016][lr 0.8989][348.74s]\n",
      "[it 15000][src seg loss 0.1342][lr 0.8985][348.74s]\n",
      "[it 15100][src seg loss 0.2591][lr 0.8982][348.80s]\n",
      "[it 15200][src seg loss 0.1858][lr 0.8979][348.64s]\n",
      "[it 15300][src seg loss 0.2528][lr 0.8975][348.98s]\n",
      "[it 15400][src seg loss 0.2038][lr 0.8972][349.04s]\n",
      "[it 15500][src seg loss 0.1873][lr 0.8968][349.11s]\n",
      "[it 15600][src seg loss 0.1372][lr 0.8965][348.87s]\n",
      "[it 15700][src seg loss 0.2208][lr 0.8961][348.46s]\n",
      "[it 15800][src seg loss 0.1367][lr 0.8958][348.81s]\n",
      "[it 15900][src seg loss 0.2707][lr 0.8954][348.76s]\n",
      "[it 16000][src seg loss 0.1479][lr 0.8951][349.05s]\n",
      "[it 16100][src seg loss 0.1184][lr 0.8948][348.88s]\n",
      "[it 16200][src seg loss 0.1618][lr 0.8944][348.79s]\n",
      "[it 16300][src seg loss 0.1476][lr 0.8941][349.06s]\n",
      "[it 16400][src seg loss 0.1101][lr 0.8937][349.16s]\n",
      "[it 16500][src seg loss 0.2072][lr 0.8934][348.86s]\n",
      "[it 16600][src seg loss 0.1823][lr 0.8930][349.25s]\n",
      "[it 16700][src seg loss 0.1975][lr 0.8927][349.16s]\n",
      "[it 16800][src seg loss 0.2899][lr 0.8923][349.06s]\n",
      "[it 16900][src seg loss 0.1884][lr 0.8920][348.90s]\n",
      "[it 17000][src seg loss 0.1506][lr 0.8917][348.93s]\n",
      "[it 17100][src seg loss 0.1666][lr 0.8913][348.96s]\n",
      "[it 17200][src seg loss 0.2404][lr 0.8910][349.21s]\n",
      "[it 17300][src seg loss 0.0735][lr 0.8906][348.71s]\n",
      "[it 17400][src seg loss 0.1322][lr 0.8903][348.88s]\n",
      "[it 17500][src seg loss 0.1462][lr 0.8899][348.99s]\n",
      "[it 17600][src seg loss 0.2789][lr 0.8896][348.79s]\n",
      "[it 17700][src seg loss 0.1040][lr 0.8892][349.01s]\n",
      "[it 17800][src seg loss 0.2276][lr 0.8889][348.78s]\n",
      "[it 17900][src seg loss 0.1206][lr 0.8886][349.12s]\n",
      "[it 18000][src seg loss 0.2388][lr 0.8882][348.77s]\n",
      "[it 18100][src seg loss 0.1011][lr 0.8879][348.67s]\n",
      "[it 18200][src seg loss 0.1852][lr 0.8875][348.45s]\n",
      "[it 18300][src seg loss 0.1550][lr 0.8872][348.90s]\n",
      "[it 18400][src seg loss 0.0812][lr 0.8868][348.75s]\n",
      "[it 18500][src seg loss 0.1598][lr 0.8865][348.91s]\n",
      "[it 18600][src seg loss 0.2217][lr 0.8861][348.92s]\n",
      "[it 18700][src seg loss 0.1631][lr 0.8858][349.07s]\n",
      "[it 18800][src seg loss 0.1532][lr 0.8855][348.68s]\n",
      "[it 18900][src seg loss 0.1123][lr 0.8851][348.77s]\n",
      "[it 19000][src seg loss 0.1562][lr 0.8848][349.13s]\n",
      "[it 19100][src seg loss 0.1516][lr 0.8844][349.00s]\n",
      "[it 19200][src seg loss 0.1348][lr 0.8841][348.93s]\n",
      "[it 19300][src seg loss 0.1775][lr 0.8837][348.98s]\n",
      "[it 19400][src seg loss 0.2848][lr 0.8834][348.98s]\n",
      "[it 19500][src seg loss 0.1856][lr 0.8830][349.10s]\n",
      "[it 19600][src seg loss 0.1206][lr 0.8827][349.31s]\n",
      "[it 19700][src seg loss 0.1560][lr 0.8824][349.30s]\n",
      "[it 19800][src seg loss 0.1973][lr 0.8820][349.02s]\n",
      "[it 19900][src seg loss 0.1466][lr 0.8817][349.02s]\n",
      "taking snapshot ...\n"
     ]
    },
    {
     "name": "stderr",
     "output_type": "stream",
     "text": [
      "500it [08:01,  1.04it/s]\n"
     ]
    },
    {
     "name": "stdout",
     "output_type": "stream",
     "text": [
      "Num classes 19\n",
      "===>road:\t35.97\n",
      "===>sidewalk:\t16.82\n",
      "===>building:\t71.45\n",
      "===>wall:\t6.83\n",
      "===>fence:\t0.08\n",
      "===>pole:\t27.32\n",
      "===>light:\t11.88\n",
      "===>sign:\t13.18\n",
      "===>vegetation:\t77.03\n",
      "===>terrain:\t0.0\n",
      "===>sky:\t77.98\n",
      "===>person:\t54.12\n",
      "===>rider:\t14.99\n",
      "===>car:\t66.53\n",
      "===>truck:\t0.0\n",
      "===>bus:\t21.7\n",
      "===>train:\t0.0\n",
      "===>motocycle:\t13.76\n",
      "===>bicycle:\t16.73\n",
      "===> mIoU19: 27.7\n",
      "===> mIoU16: 32.9\n",
      "===> mIoU13: 37.86\n",
      "[it 20000][src seg loss 0.1605][lr 0.8813][863.41s]\n",
      "[it 20100][src seg loss 0.1956][lr 0.8810][348.82s]\n",
      "[it 20200][src seg loss 0.1893][lr 0.8806][348.96s]\n",
      "[it 20300][src seg loss 0.3249][lr 0.8803][348.89s]\n",
      "[it 20400][src seg loss 0.2370][lr 0.8799][348.91s]\n",
      "[it 20500][src seg loss 0.1843][lr 0.8796][348.98s]\n",
      "[it 20600][src seg loss 0.1243][lr 0.8793][348.96s]\n",
      "[it 20700][src seg loss 0.1959][lr 0.8789][349.02s]\n",
      "[it 20800][src seg loss 0.1818][lr 0.8786][348.85s]\n",
      "[it 20900][src seg loss 0.1931][lr 0.8782][349.03s]\n",
      "[it 21000][src seg loss 0.2120][lr 0.8779][348.73s]\n",
      "[it 21100][src seg loss 0.0585][lr 0.8775][348.93s]\n",
      "[it 21200][src seg loss 0.1549][lr 0.8772][349.10s]\n",
      "[it 21300][src seg loss 0.0803][lr 0.8768][349.14s]\n",
      "[it 21400][src seg loss 0.3129][lr 0.8765][349.17s]\n",
      "[it 21500][src seg loss 0.2141][lr 0.8761][349.06s]\n",
      "[it 21600][src seg loss 0.1670][lr 0.8758][348.82s]\n",
      "[it 21700][src seg loss 0.1219][lr 0.8755][349.35s]\n",
      "[it 21800][src seg loss 0.1216][lr 0.8751][349.06s]\n",
      "[it 21900][src seg loss 0.1021][lr 0.8748][349.21s]\n",
      "[it 22000][src seg loss 0.1478][lr 0.8744][348.87s]\n",
      "[it 22100][src seg loss 0.2219][lr 0.8741][348.95s]\n",
      "[it 22200][src seg loss 0.1071][lr 0.8737][349.07s]\n"
     ]
    },
    {
     "ename": "KeyboardInterrupt",
     "evalue": "",
     "output_type": "error",
     "traceback": [
      "\u001b[0;31m---------------------------------------------------------------------------\u001b[0m",
      "\u001b[0;31mKeyboardInterrupt\u001b[0m                         Traceback (most recent call last)",
      "\u001b[0;32m<ipython-input-16-7c2230856a4b>\u001b[0m in \u001b[0;36m<module>\u001b[0;34m\u001b[0m\n\u001b[0;32m----> 1\u001b[0;31m \u001b[0mBase\u001b[0m\u001b[0;34m.\u001b[0m\u001b[0mtrain\u001b[0m\u001b[0;34m(\u001b[0m\u001b[0;34m)\u001b[0m\u001b[0;34m\u001b[0m\u001b[0m\n\u001b[0m",
      "\u001b[0;32m<ipython-input-12-a1349721a2b1>\u001b[0m in \u001b[0;36mtrain\u001b[0;34m(self)\u001b[0m\n\u001b[1;32m     57\u001b[0m             \u001b[0msrc_seg_score\u001b[0m \u001b[0;34m=\u001b[0m \u001b[0msrc_seg_score\u001b[0m\u001b[0;34m.\u001b[0m\u001b[0mdetach\u001b[0m\u001b[0;34m(\u001b[0m\u001b[0;34m)\u001b[0m\u001b[0;34m\u001b[0m\u001b[0m\n\u001b[1;32m     58\u001b[0m \u001b[0;34m\u001b[0m\u001b[0m\n\u001b[0;32m---> 59\u001b[0;31m             \u001b[0mself\u001b[0m\u001b[0;34m.\u001b[0m\u001b[0moptimizer\u001b[0m\u001b[0;34m.\u001b[0m\u001b[0mstep\u001b[0m\u001b[0;34m(\u001b[0m\u001b[0;34m)\u001b[0m\u001b[0;34m\u001b[0m\u001b[0m\n\u001b[0m\u001b[1;32m     60\u001b[0m \u001b[0;34m\u001b[0m\u001b[0m\n\u001b[1;32m     61\u001b[0m \u001b[0;34m\u001b[0m\u001b[0m\n",
      "\u001b[0;32m~/.local/lib/python3.5/site-packages/torch/optim/sgd.py\u001b[0m in \u001b[0;36mstep\u001b[0;34m(self, closure)\u001b[0m\n\u001b[1;32m     91\u001b[0m                 \u001b[0md_p\u001b[0m \u001b[0;34m=\u001b[0m \u001b[0mp\u001b[0m\u001b[0;34m.\u001b[0m\u001b[0mgrad\u001b[0m\u001b[0;34m.\u001b[0m\u001b[0mdata\u001b[0m\u001b[0;34m\u001b[0m\u001b[0m\n\u001b[1;32m     92\u001b[0m                 \u001b[0;32mif\u001b[0m \u001b[0mweight_decay\u001b[0m \u001b[0;34m!=\u001b[0m \u001b[0;36m0\u001b[0m\u001b[0;34m:\u001b[0m\u001b[0;34m\u001b[0m\u001b[0m\n\u001b[0;32m---> 93\u001b[0;31m                     \u001b[0md_p\u001b[0m\u001b[0;34m.\u001b[0m\u001b[0madd_\u001b[0m\u001b[0;34m(\u001b[0m\u001b[0mweight_decay\u001b[0m\u001b[0;34m,\u001b[0m \u001b[0mp\u001b[0m\u001b[0;34m.\u001b[0m\u001b[0mdata\u001b[0m\u001b[0;34m)\u001b[0m\u001b[0;34m\u001b[0m\u001b[0m\n\u001b[0m\u001b[1;32m     94\u001b[0m                 \u001b[0;32mif\u001b[0m \u001b[0mmomentum\u001b[0m \u001b[0;34m!=\u001b[0m \u001b[0;36m0\u001b[0m\u001b[0;34m:\u001b[0m\u001b[0;34m\u001b[0m\u001b[0m\n\u001b[1;32m     95\u001b[0m                     \u001b[0mparam_state\u001b[0m \u001b[0;34m=\u001b[0m \u001b[0mself\u001b[0m\u001b[0;34m.\u001b[0m\u001b[0mstate\u001b[0m\u001b[0;34m[\u001b[0m\u001b[0mp\u001b[0m\u001b[0;34m]\u001b[0m\u001b[0;34m\u001b[0m\u001b[0m\n",
      "\u001b[0;31mKeyboardInterrupt\u001b[0m: "
     ]
    }
   ],
   "source": [
    "Base.train()"
   ]
  },
  {
   "cell_type": "code",
   "execution_count": 24,
   "metadata": {
    "colab": {},
    "colab_type": "code",
    "id": "nf32slJEFtTF"
   },
   "outputs": [
    {
     "name": "stderr",
     "output_type": "stream",
     "text": [
      "500it [08:28,  1.02s/it]\n"
     ]
    },
    {
     "name": "stdout",
     "output_type": "stream",
     "text": [
      "Num classes 19\n",
      "===>road:\t55.38\n",
      "===>sidewalk:\t15.91\n",
      "===>building:\t73.59\n",
      "===>wall:\t18.98\n",
      "===>fence:\t14.77\n",
      "===>pole:\t25.3\n",
      "===>light:\t26.61\n",
      "===>sign:\t19.4\n",
      "===>vegetation:\t78.23\n",
      "===>terrain:\t8.24\n",
      "===>sky:\t72.7\n",
      "===>person:\t54.87\n",
      "===>rider:\t20.66\n",
      "===>car:\t46.47\n",
      "===>truck:\t13.47\n",
      "===>bus:\t5.47\n",
      "===>train:\t1.53\n",
      "===>motocycle:\t19.6\n",
      "===>bicycle:\t34.19\n",
      "===> mIoU19: 31.86\n",
      "===> mIoU16: 36.38\n",
      "===> mIoU13: 40.24\n"
     ]
    }
   ],
   "source": [
    "run_time_evaluation.main(Base.model)"
   ]
  },
  {
   "cell_type": "code",
   "execution_count": 17,
   "metadata": {
    "colab": {},
    "colab_type": "code",
    "id": "wlEETWZ-FtTM"
   },
   "outputs": [],
   "source": [
    "torch.save(Base.model.state_dict(), os.path.join(Base.args.snapshot_dir, '%s_' %(Base.args.source+\"_\" + select_model )+\"_init\"  +'.pth' ))"
   ]
  },
  {
   "cell_type": "code",
   "execution_count": 0,
   "metadata": {
    "colab": {},
    "colab_type": "code",
    "id": "PdiPah_BFtTP"
   },
   "outputs": [],
   "source": []
  },
  {
   "cell_type": "code",
   "execution_count": 0,
   "metadata": {
    "colab": {},
    "colab_type": "code",
    "id": "P8CX5rDxFtTS"
   },
   "outputs": [],
   "source": []
  },
  {
   "cell_type": "code",
   "execution_count": 0,
   "metadata": {
    "colab": {},
    "colab_type": "code",
    "id": "R-XDySyaFtTV"
   },
   "outputs": [],
   "source": []
  },
  {
   "cell_type": "code",
   "execution_count": 0,
   "metadata": {
    "colab": {},
    "colab_type": "code",
    "id": "_Bjg_6AVFtTa"
   },
   "outputs": [],
   "source": []
  },
  {
   "cell_type": "code",
   "execution_count": 0,
   "metadata": {
    "colab": {},
    "colab_type": "code",
    "id": "7wnrYzjzFtTf"
   },
   "outputs": [],
   "source": []
  },
  {
   "cell_type": "code",
   "execution_count": 0,
   "metadata": {
    "colab": {},
    "colab_type": "code",
    "id": "SQ3i4_b4FtTi"
   },
   "outputs": [],
   "source": []
  },
  {
   "cell_type": "code",
   "execution_count": 0,
   "metadata": {
    "colab": {},
    "colab_type": "code",
    "id": "oH9i3vrkFtTm"
   },
   "outputs": [],
   "source": []
  }
 ],
 "metadata": {
  "accelerator": "GPU",
  "colab": {
   "collapsed_sections": [],
   "name": "segmentation.ipynb",
   "provenance": []
  },
  "kernelspec": {
   "display_name": "Python 3",
   "language": "python",
   "name": "python3"
  },
  "language_info": {
   "codemirror_mode": {
    "name": "ipython",
    "version": 3
   },
   "file_extension": ".py",
   "mimetype": "text/x-python",
   "name": "python",
   "nbconvert_exporter": "python",
   "pygments_lexer": "ipython3",
   "version": "3.5.2"
  }
 },
 "nbformat": 4,
 "nbformat_minor": 1
}
